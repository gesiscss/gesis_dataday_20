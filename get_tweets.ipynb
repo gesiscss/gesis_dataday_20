{
 "cells": [
  {
   "cell_type": "markdown",
   "metadata": {},
   "source": [
    "# Get Tweets"
   ]
  },
  {
   "cell_type": "code",
   "execution_count": 2,
   "metadata": {},
   "outputs": [
    {
     "name": "stdout",
     "output_type": "stream",
     "text": [
      "Downloading tweets...\n",
      "Saved 10\n",
      "Done. Output file generated \"output_got.csv\".\n"
     ]
    }
   ],
   "source": [
    "GetOldTweets3 --querysearch \"europe refugees\" --maxtweets 10"
   ]
  },
  {
   "cell_type": "code",
   "execution_count": 3,
   "metadata": {},
   "outputs": [
    {
     "name": "stdout",
     "output_type": "stream",
     "text": [
      "binder  output_got.csv  Untitled.ipynb\n"
     ]
    }
   ],
   "source": [
    "ls"
   ]
  },
  {
   "cell_type": "code",
   "execution_count": null,
   "metadata": {},
   "outputs": [],
   "source": []
  },
  {
   "cell_type": "code",
   "execution_count": 5,
   "metadata": {},
   "outputs": [
    {
     "name": "stdout",
     "output_type": "stream",
     "text": [
      "date,username,to,replies,retweets,favorites,text,geo,mentions,hashtags,id,permalink\n",
      "2019-12-17 15:39:29,yaxl_to,,0,0,0,\"Europe Was the Main Player in Destroying Syria and Creating the Refugee Crisis https://shar.es/a3hlOu via @grtvnews\",,@GRTVnews,,1206962126633472000,https://twitter.com/yaxl_to/status/1206962126633472000\n",
      "2019-12-17 15:39:21,butt_clench,thejournal_ie,0,0,0,\"Majority of whom will not be from \"\"unsafe countries\"\" as per UN/EU standards. Majority of asylum seekers who have come in are from Pakistan, Zimbabwe, Georgia. As Dalai Lama said, Europe should train genuine refugees, then send them back to fix their homeland.\",,,,1206962090457604098,https://twitter.com/butt_clench/status/1206962090457604098\n",
      "2019-12-17 15:38:54,RefugeesCE,,0,1,1,\"\"\"As #refugees go, so goes the world\"\" UN Secretary General António Guterres @antonioguterres at the #GlobalRefugeeForum\",,@antonioguterres,#refugees #GlobalRefugeeForum,1206961979124006913,https://twitter.com/RefugeesCE/status/1206961979124006913\n",
      "2019-12-17 15:25:27,nick_blinko,robynkonichiwa,0,0,0,\"Aren’t refugees raping and pillaging Europe? You know it’s forced migration created by your EU overlords right ?\",,,,1206958593150349312,https://twitter.com/nick_blinko/status/1206958593150349312\n",
      "2019-12-17 15:21:46,Vasa_,,0,0,0,\"So explained cab,nrc thing to sis .. she went back confronting some.. but now she is complaining all these people pics etc etc are fake and saying propaganda n started giving examples of refugee crisis in Europe.. what should I do now ..\",,,,1206957666817302529,https://twitter.com/Vasa_/status/1206957666817302529\n",
      "2019-12-17 15:15:30,SonerCagaptay,FareedZakaria,0,0,9,\"Not Davutoglu, whose brand is “AKP of the 2010s”: i.e. oppressing the opposition, markets abandoning Turkey, and collapsing Syria policy (whose effects include 4 million refugees, terror attacks, and strategic divergence in Syria that has undermined Ankara’s bonds to US &amp; Europe) \",,,,1206956089155174400,https://twitter.com/SonerCagaptay/status/1206956089155174400\n",
      "2019-12-17 15:13:03,UNHCR_NE,SwedenGeneva,0,3,2,\" Sweden shows #SolidarityInAction and pledges to enhance the inclusion of #refugees in local and national #education systems, keep up high resettlement figures and increase flexible funding to strengthen UNHCR's efforts for refugees globally. #RefugeeForum @SweMFA @AnnLinde\",,@SweMFA @AnnLinde,#SolidarityInAction #refugees #education #RefugeeForum,1206955471875256321,https://twitter.com/UNHCR_NE/status/1206955471875256321\n",
      "2019-12-17 15:10:07,oxymarooned,abhiseparate,2,0,0,\"Ok why include christians then when they can go to almost 2.1 billion brethrens of theirs from North america South america Whole europe Major african countries Australia n new zealand ... Fyi no muslim country took any syrian refugee. It was all western democracies.\",,,,1206954733660848128,https://twitter.com/oxymarooned/status/1206954733660848128\n",
      "2019-12-17 15:08:01,TLC63067,mgrant76308,0,0,0,\"How I feel about this depends on what refugees we are taking. If they are truly refugees of war or persecution, like Christians from Armenia were, then that's great. If they are economic refugees who want welfare and to free load like they've sent to Europe, no thanks.\",,,,1206954207342977030,https://twitter.com/TLC63067/status/1206954207342977030\n"
     ]
    }
   ],
   "source": [
    "head output_got.csv"
   ]
  },
  {
   "cell_type": "code",
   "execution_count": null,
   "metadata": {},
   "outputs": [],
   "source": []
  }
 ],
 "metadata": {
  "kernelspec": {
   "display_name": "Bash",
   "language": "bash",
   "name": "bash"
  },
  "language_info": {
   "codemirror_mode": "shell",
   "file_extension": ".sh",
   "mimetype": "text/x-sh",
   "name": "bash"
  }
 },
 "nbformat": 4,
 "nbformat_minor": 2
}
