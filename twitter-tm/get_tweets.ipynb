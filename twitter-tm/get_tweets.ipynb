{
 "cells": [
  {
   "cell_type": "markdown",
   "metadata": {},
   "source": [
    "# Get Tweets"
   ]
  },
  {
   "cell_type": "markdown",
   "metadata": {},
   "source": [
    "[GetOldTweets3](https://pypi.org/project/GetOldTweets3/) ist eine über die [Bash](https://en.wikipedia.org/wiki/Bash_(Unix_shell)) nutzbare Python Library welche den einfachn Zugiff auf vergangene Tweets ermöglicht.\n",
    "\n",
    "Hier einige Beispiele ..."
   ]
  },
  {
   "cell_type": "code",
   "execution_count": null,
   "metadata": {},
   "outputs": [],
   "source": [
    "GetOldTweets3 --username \"nicolabeerfdp\" --since 2019-01-19 --until 2020-01-20 --maxtweets 2000  --output \"data/nicolabeerfdp.csv\""
   ]
  },
  {
   "cell_type": "code",
   "execution_count": null,
   "metadata": {},
   "outputs": [],
   "source": [
    "GetOldTweets3 --username \"katarinabarley\" --since 2019-01-19 --until 2020-01-20 --maxtweets 2000  --output \"data/katarinabarley.csv\""
   ]
  },
  {
   "cell_type": "markdown",
   "metadata": {},
   "source": [
    "Im Ordner `./data` befinden sich nun zwei neue Dateien "
   ]
  },
  {
   "cell_type": "code",
   "execution_count": null,
   "metadata": {},
   "outputs": [],
   "source": [
    "ls ./data"
   ]
  },
  {
   "cell_type": "markdown",
   "metadata": {},
   "source": [
    "Der Inhalt von [nicolabeerfdp.csv](./data/nicolabeerfdp.csv) und [katarinabarley.csv](./data/katarinabarley.csv) kann in Jupyter dargestellt werden. "
   ]
  },
  {
   "cell_type": "markdown",
   "metadata": {},
   "source": [
    "Das Programm enthält eine Übersicht zu den vorhandenen Argumenten um die Suche zu Parametrisieren:"
   ]
  },
  {
   "cell_type": "code",
   "execution_count": null,
   "metadata": {},
   "outputs": [],
   "source": [
    "GetOldTweets3 -h"
   ]
  },
  {
   "cell_type": "code",
   "execution_count": null,
   "metadata": {},
   "outputs": [],
   "source": []
  },
  {
   "cell_type": "code",
   "execution_count": null,
   "metadata": {},
   "outputs": [],
   "source": [
    "GetOldTweets3 --querysearch \"#SPD\" --maxtweets 100 --output \"data/spd_example.csv\""
   ]
  },
  {
   "cell_type": "code",
   "execution_count": 3,
   "metadata": {},
   "outputs": [],
   "source": []
  },
  {
   "cell_type": "markdown",
   "metadata": {},
   "source": [
    "## Daten Backup\n",
    "\n",
    "Zum Laden der Backup-Daten folgenden Code ausführen:\n",
    "\n",
    "```bash\n",
    "curl https://gesisbox.gesis.org/index.php/s/zXzXEdrY535gzwN/download > data/twitter_beer-barley.zip\n",
    "unzip ./data/twitter_beer-barley.zip -d ./data\n",
    "rm data/twitter_beer-barley.zip\n",
    "\n",
    "```"
   ]
  },
  {
   "cell_type": "code",
   "execution_count": null,
   "metadata": {},
   "outputs": [],
   "source": []
  }
 ],
 "metadata": {
  "kernelspec": {
   "display_name": "Bash",
   "language": "bash",
   "name": "bash"
  },
  "language_info": {
   "codemirror_mode": "shell",
   "file_extension": ".sh",
   "mimetype": "text/x-sh",
   "name": "bash"
  }
 },
 "nbformat": 4,
 "nbformat_minor": 2
}
