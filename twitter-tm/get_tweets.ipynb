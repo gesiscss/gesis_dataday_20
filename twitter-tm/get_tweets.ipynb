{
 "cells": [
  {
   "cell_type": "markdown",
   "metadata": {},
   "source": [
    "# Get Tweets"
   ]
  },
  {
   "cell_type": "markdown",
   "metadata": {},
   "source": [
    "[GetOldTweets3](https://pypi.org/project/GetOldTweets3/) ist eine über die [Bash](https://en.wikipedia.org/wiki/Bash_(Unix_shell)) nutzbare Python Library welche den einfachen Zugiff auf vergangene Tweets ohne Registrierung ermöglicht.\n",
    "\n",
    "Hier einige Beispiele ..."
   ]
  },
  {
   "cell_type": "code",
   "execution_count": null,
   "metadata": {},
   "outputs": [],
   "source": [
    "GetOldTweets3 --querysearch \"#SPD\" --maxtweets 100 --output \"data/spd.csv\""
   ]
  },
  {
   "cell_type": "markdown",
   "metadata": {},
   "source": [
    "Im Ordner `./data` befindet sich nun eine neue Datei\n",
    "\n",
    "```bash\n",
    "ls ./data\n",
    "```"
   ]
  },
  {
   "cell_type": "code",
   "execution_count": null,
   "metadata": {},
   "outputs": [],
   "source": []
  },
  {
   "cell_type": "markdown",
   "metadata": {},
   "source": [
    "Der Inhalt von [data/spd.csv](./data/spd.csv) kann in Jupyter dargestellt werden. "
   ]
  },
  {
   "cell_type": "markdown",
   "metadata": {},
   "source": [
    "Um die Tweets von [Regierungssprecher](https://twitter.com/regsprecher) Steffen Seibert, im Zeitraum 1. Mai bis 15. Mai 2019, zu laden\n",
    "```bash\n",
    "GetOldTweets3 --username \"regsprecher\" --since 2019-05-01 --until 2020-06-15 --output \"data/regsprecher.csv\"\n",
    "```\n",
    "\n"
   ]
  },
  {
   "cell_type": "code",
   "execution_count": null,
   "metadata": {},
   "outputs": [],
   "source": []
  },
  {
   "cell_type": "markdown",
   "metadata": {},
   "source": [
    "Das Programm enthält eine Übersicht zu den vorhandenen Argumenten um die Suche zu Parametrisieren:"
   ]
  },
  {
   "cell_type": "code",
   "execution_count": null,
   "metadata": {},
   "outputs": [],
   "source": [
    "GetOldTweets3 -h"
   ]
  },
  {
   "cell_type": "markdown",
   "metadata": {},
   "source": [
    "Im nächsten Schritt laden wir die Tweets von [Bernd Riexinger](https://twitter.com/b_riexinger) und [Alice Weidel](https://twitter.com/Alice_Weidel), für den Zeitraum vom `2019-01-19` bis zum `2020-01-20`. Das Ergebnis sollte unter `data/b_riexinger.csv` `data/alice_weidel.csv` abgelegt werden."
   ]
  },
  {
   "cell_type": "code",
   "execution_count": null,
   "metadata": {},
   "outputs": [],
   "source": []
  },
  {
   "cell_type": "code",
   "execution_count": null,
   "metadata": {},
   "outputs": [],
   "source": []
  },
  {
   "cell_type": "markdown",
   "metadata": {},
   "source": [
    "Analog können die Tweets von [Nicola Beer](https://twitter.com/nicolabeerfdp) und [Katarina Barley](https://twitter.com/katarinabarley) geladen werden."
   ]
  },
  {
   "cell_type": "code",
   "execution_count": null,
   "metadata": {},
   "outputs": [],
   "source": []
  },
  {
   "cell_type": "code",
   "execution_count": null,
   "metadata": {},
   "outputs": [],
   "source": []
  },
  {
   "cell_type": "markdown",
   "metadata": {},
   "source": [
    "### Daten Backup\n",
    "\n",
    "Für den Fall dass es Probleme gibt kann zum Laden der Backup-Daten folgender Code ausführt werden:\n",
    "\n",
    "```bash\n",
    "curl https://gesisbox.gesis.org/index.php/s/zXzXEdrY535gzwN/download > ./data/twitter_beer-barley.zip\n",
    "unzip ./data/twitter_beer-barley.zip -d ./data\n",
    "rm ./data/twitter_beer-barley.zip\n",
    "\n",
    "```"
   ]
  },
  {
   "cell_type": "code",
   "execution_count": null,
   "metadata": {},
   "outputs": [],
   "source": []
  }
 ],
 "metadata": {
  "kernelspec": {
   "display_name": "Bash",
   "language": "bash",
   "name": "bash"
  },
  "language_info": {
   "codemirror_mode": "shell",
   "file_extension": ".sh",
   "mimetype": "text/x-sh",
   "name": "bash"
  }
 },
 "nbformat": 4,
 "nbformat_minor": 2
}
