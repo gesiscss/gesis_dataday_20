{
 "cells": [
  {
   "cell_type": "markdown",
   "metadata": {},
   "source": [
    "\n"
   ]
  },
  {
   "cell_type": "markdown",
   "metadata": {},
   "source": [
    "# Text Mining\n",
    "\n",
    "## Arbeiten mit Jupyter Notebooks\n",
    "\n",
    "\n",
    "[Jupyter Notebooks](https://jupyter.org/) sind eine browserbasierte Oberfläche um mit Skriptsprachen, wie [R](https://www.r-project.org/), zu interagieren. Notebooks bestehen aus *Zellen*, die zwei wichtigsten Arten von Zellen sind:\n",
    "+ Markdown Zellen für formatieren Text und\n",
    "+ Code Zellen für Quelltext der ausgeführt werden soll.\n",
    "\n",
    "\n",
    "Um Code in einer Zelle ausführbar zu machen können Sie beispielsweise folgenden R-Quelltext in das untere Textfeld kopieren   \n",
    "\n",
    "```R\n",
    "str_variable_name <- \"Hallo Jupyter\"\n",
    "print(str_variable_name)\n",
    "```"
   ]
  },
  {
   "cell_type": "code",
   "execution_count": null,
   "metadata": {},
   "outputs": [],
   "source": []
  },
  {
   "cell_type": "markdown",
   "metadata": {},
   "source": [
    "Um den Code in der Zelle auszuführen drücken Sie `Shift-Enter`."
   ]
  },
  {
   "cell_type": "markdown",
   "metadata": {},
   "source": [
    "## Vergleichende Analyse von Twitter Profilen\n",
    "\n",
    "Twitter spielt eine zunehmend wichtige Rolle in der politischen Kommunikation. In diesem Notebook wird der Vergleich von der Aktivität von Bernd Riexinger (*Die Linke*) und Alice Weidel (*AFD*) besprochen. Sowohl [Bernd Riexinger](https://twitter.com/b_riexinger) als auch [Alice Weidel](https://twitter.com/Alice_Weidel) haben öffentlich zugängliche Profile auf Twitter. Im Notebook [get_tweets.ipynb](./get_tweets.ipynb) werden diese aus Twitter geladen. Das Notebook baut auf dem R-Paket [tidytext](https://cran.r-project.org/web/packages/tidytext/index.html) auf und folgt dem Anwendungsbeispiel für den [Vergleich](https://www.tidytextmining.com/twitter.html) von Twitter Archiven."
   ]
  },
  {
   "cell_type": "markdown",
   "metadata": {},
   "source": [
    "### Import von Daten\n",
    "\n",
    "Im ersten Schritt importieren wir benötigte R-Pakete. Im Anschluss laden wir die Daten in die Analyseumgebung und werfen einen Blick auf die Verteilung der Häufigkeiten von Tweets über die Zeit."
   ]
  },
  {
   "cell_type": "code",
   "execution_count": null,
   "metadata": {},
   "outputs": [],
   "source": [
    "library(lubridate)\n",
    "library(ggplot2)\n",
    "library(dplyr)\n",
    "library(readr)\n",
    "library(tidyr)\n",
    "library(scales)\n",
    "library(tidytext)\n",
    "library(stringr)"
   ]
  },
  {
   "cell_type": "code",
   "execution_count": null,
   "metadata": {},
   "outputs": [],
   "source": [
    "b_riexinger.csv <- read_csv(\"data/b_riexinger.csv\")\n",
    "alice_weidel.csv <- read_csv(\"data/alice_weidel.csv\")"
   ]
  },
  {
   "cell_type": "code",
   "execution_count": null,
   "metadata": {},
   "outputs": [],
   "source": [
    "tweets <- bind_rows(b_riexinger.csv %>% mutate(collection = \"b_riexinger\", realname = \"Bernd Riexinger\"),\n",
    "                    alice_weidel.csv %>% mutate(collection = \"Alice_Weidel\", realname = \"Alice Weidel\")) "
   ]
  },
  {
   "cell_type": "markdown",
   "metadata": {},
   "source": [
    "### Was wir importiert haben und der [Pipe](https://uc-r.github.io/pipe) `%>%` Operator"
   ]
  },
  {
   "cell_type": "code",
   "execution_count": null,
   "metadata": {},
   "outputs": [],
   "source": [
    "tweets %>% head()"
   ]
  },
  {
   "cell_type": "code",
   "execution_count": null,
   "metadata": {},
   "outputs": [],
   "source": [
    "tweets %>% select(\"date\", \"realname\", \"text\") %>%  head()"
   ]
  },
  {
   "cell_type": "code",
   "execution_count": null,
   "metadata": {},
   "outputs": [],
   "source": [
    "head(tweets[, c(\"date\", \"realname\", \"text\")], n = 5)"
   ]
  },
  {
   "cell_type": "markdown",
   "metadata": {},
   "source": [
    "Wie viel haben wir importiert?"
   ]
  },
  {
   "cell_type": "code",
   "execution_count": null,
   "metadata": {},
   "outputs": [],
   "source": [
    "tweets %>% nrow()"
   ]
  },
  {
   "cell_type": "markdown",
   "metadata": {},
   "source": [
    "Anzeigen von Dokumentation"
   ]
  },
  {
   "cell_type": "code",
   "execution_count": null,
   "metadata": {},
   "outputs": [],
   "source": [
    "?nrow"
   ]
  },
  {
   "cell_type": "code",
   "execution_count": null,
   "metadata": {},
   "outputs": [],
   "source": [
    "tweets %>% filter(username == \"b_riexinger\") %>% nrow()"
   ]
  },
  {
   "cell_type": "code",
   "execution_count": null,
   "metadata": {},
   "outputs": [],
   "source": [
    "tweets %>% select(\"realname\") %>% table()"
   ]
  },
  {
   "cell_type": "markdown",
   "metadata": {},
   "source": [
    "### Darstellung der Verteilung über die Zeit"
   ]
  },
  {
   "cell_type": "code",
   "execution_count": null,
   "metadata": {},
   "outputs": [],
   "source": [
    "tweets %>% ggplot(aes(x = date, fill = collection)) +\n",
    "  geom_histogram(position = \"identity\", bins = 20, show.legend = FALSE) +\n",
    "  facet_wrap(~realname, ncol = 1) + \n",
    "  labs(y = NULL, x = \"Datum\")"
   ]
  },
  {
   "cell_type": "markdown",
   "metadata": {},
   "source": [
    "### Frequenzanalyse"
   ]
  },
  {
   "cell_type": "markdown",
   "metadata": {},
   "source": [
    "![alt text](data/vector_space.png \"Bag of Words / Vector Space Representation\")\n",
    "\n",
    "\n",
    "[Stoppwörter](https://de.wikipedia.org/wiki/Stoppwort) sind Wörter die häufig auftreten und wenig Relevanz für die Erfassung des Inhalts besitzen."
   ]
  },
  {
   "cell_type": "code",
   "execution_count": null,
   "metadata": {},
   "outputs": [],
   "source": [
    "stopwords <- get_stopwords(language = \"de\")$word"
   ]
  },
  {
   "cell_type": "code",
   "execution_count": null,
   "metadata": {},
   "outputs": [],
   "source": [
    "stopwords %>% head()"
   ]
  },
  {
   "cell_type": "code",
   "execution_count": null,
   "metadata": {},
   "outputs": [],
   "source": [
    "tidy_tweets <- tweets %>% \n",
    "  filter(!str_detect(text, \"^RT\")) %>%\n",
    "  mutate(text = str_remove_all(text, \"&amp;|&lt;|&gt;\")) %>%\n",
    "  unnest_tokens(word, text, token = \"tweets\") %>%\n",
    "  filter(!word %in% stopwords,\n",
    "         !word %in% str_remove_all(stopwords, \"'\"),\n",
    "         str_detect(word, \"[a-z]\"),\n",
    "         nchar(word) > 2,\n",
    "        )\n",
    "\n",
    "tidy_tweets %>% head()"
   ]
  },
  {
   "cell_type": "markdown",
   "metadata": {},
   "source": [
    "Um ausschließlich *#HashTags* zu extrahieren kann alternativ folgender Aufruf\n",
    "```R\n",
    "str_detect(word, \"#[a-z]\")\n",
    "```\n",
    "von `str_detect` verwendet werden."
   ]
  },
  {
   "cell_type": "code",
   "execution_count": null,
   "metadata": {},
   "outputs": [],
   "source": []
  },
  {
   "cell_type": "markdown",
   "metadata": {},
   "source": [
    "### Von einzelnen Wörtern zu Häufigkeiten"
   ]
  },
  {
   "cell_type": "code",
   "execution_count": null,
   "metadata": {},
   "outputs": [],
   "source": [
    "frequency <- tidy_tweets %>% \n",
    "  group_by(collection) %>% \n",
    "  count(word, sort = TRUE) %>% \n",
    "  left_join(tidy_tweets %>% \n",
    "  group_by(collection) %>% \n",
    "  summarise(total = n())) %>%\n",
    "  mutate(freq = n/total) %>% \n",
    "  filter(n > 5)"
   ]
  },
  {
   "cell_type": "code",
   "execution_count": null,
   "metadata": {},
   "outputs": [],
   "source": [
    "frequency %>% filter(collection == \"Alice_Weidel\") %>% head(n=10)"
   ]
  },
  {
   "cell_type": "markdown",
   "metadata": {},
   "source": [
    "Analog können die `n` häufigsten Wörter für Bernd Riexinger (b_riexinger) ausgegeben werden."
   ]
  },
  {
   "cell_type": "code",
   "execution_count": null,
   "metadata": {},
   "outputs": [],
   "source": []
  },
  {
   "cell_type": "markdown",
   "metadata": {},
   "source": [
    "Eine alternative form für die Worthäufigkeiten kann wie folgt berechnet werden."
   ]
  },
  {
   "cell_type": "code",
   "execution_count": null,
   "metadata": {},
   "outputs": [],
   "source": [
    "frequency2 <- frequency %>% \n",
    "  select(collection, word, freq) %>% \n",
    "  spread(collection, freq) %>% \n",
    "  arrange(Alice_Weidel, b_riexinger) %>% \n",
    "  na.omit()"
   ]
  },
  {
   "cell_type": "code",
   "execution_count": null,
   "metadata": {},
   "outputs": [],
   "source": [
    "frequency2 %>% head(n=10)"
   ]
  },
  {
   "cell_type": "markdown",
   "metadata": {},
   "source": [
    "Die Daten sind nun in einer geeigneten Form für die grafische Darstellung. "
   ]
  },
  {
   "cell_type": "code",
   "execution_count": null,
   "metadata": {},
   "outputs": [],
   "source": [
    "frequency2 %>% ggplot(aes(Alice_Weidel, b_riexinger)) +\n",
    "  geom_jitter(alpha = 0.1, size = 2.5, width = 0.25, height = 0.25) +\n",
    "  geom_text(aes(label = word), check_overlap = TRUE, vjust = 1.5) +\n",
    "  scale_x_log10(labels = percent_format()) +\n",
    "  scale_y_log10(labels = percent_format()) +\n",
    "  geom_abline(color = \"blue\") + \n",
    "  labs(y = \"Bernd Riexinger\", x = \"Alice Weidel\")"
   ]
  },
  {
   "cell_type": "markdown",
   "metadata": {},
   "source": [
    "In der Grafik sehen wir die relative Häufigkeit der Wörter welche von beiden Politikern genutzt wurden."
   ]
  },
  {
   "cell_type": "markdown",
   "metadata": {},
   "source": [
    "### Die Wortwahl der Akteure\n",
    "\n",
    "\\begin{equation}\n",
    "\\textrm{Odds-Ratio} = \\frac{\\frac{n+1_{Weidel}}{total+1_{Weidel}}}{\\frac{n+1_{Riexinger}}{total+1_{Riexinger}}},\\;\\;\\;\\; \\textrm{mit} \\;\\; \\textrm{Log-Odds-Ratio} = log(\\textrm{Odds-Ratio})\n",
    "\\end{equation}\n",
    "\n",
    "**Interpretation:** Einn Log-Odds-Ratio (siehe Chancenverhältnis [Wikipedia](https://de.wikipedia.org/wiki/Chancenverh%C3%A4ltnis)) von:\n",
    "+ 1 bedeutet, dass es keinen Unterschied hinsichtlich der Verwendungswahrscheinlichkeit eines Wortes gibt,\n",
    "+ \\>1 bedeutet, dass die Wahrscheinlichkeit der Verwendung eines Wortes durch Weidel größer sind,\n",
    "+ <1 bedeutet, dass die Wahrscheinlichkeit der Verwendung durch Weidel kleiner (durch Riexinger größer) sind.\n"
   ]
  },
  {
   "cell_type": "code",
   "execution_count": null,
   "metadata": {},
   "outputs": [],
   "source": [
    "word_ratios <- tidy_tweets %>%\n",
    "  count(word, collection) %>%\n",
    "  group_by(word) %>%\n",
    "  filter(sum(n) >= 10) %>%\n",
    "  ungroup() %>%\n",
    "  spread(collection, n, fill = 0) %>%\n",
    "  mutate_if(is.numeric, list(~(. + 1) / (sum(.) + 1))) %>%\n",
    "  mutate(logratio = log(Alice_Weidel / b_riexinger)) %>%\n",
    "  arrange(desc(logratio)) %>%\n",
    "  group_by(logratio < 0) %>%\n",
    "  top_n(15, abs(logratio)) %>%\n",
    "  ungroup() %>%\n",
    "  mutate(word = reorder(word, logratio)) %>% \n",
    "  group_by(logratio < 0) %>%\n",
    "  ungroup() %>%\n",
    "  mutate(word = reorder(word, logratio))"
   ]
  },
  {
   "cell_type": "code",
   "execution_count": null,
   "metadata": {},
   "outputs": [],
   "source": [
    "word_ratios %>% head()"
   ]
  },
  {
   "cell_type": "code",
   "execution_count": null,
   "metadata": {},
   "outputs": [],
   "source": [
    "word_ratios %>% ggplot(aes(word, logratio, fill = logratio < 0)) +\n",
    "  geom_col(show.legend = FALSE) +\n",
    "  coord_flip() +\n",
    "  ylab(\"Log-Odds-Ratio (Weidel / Riexinger)\") "
   ]
  },
  {
   "cell_type": "code",
   "execution_count": null,
   "metadata": {},
   "outputs": [],
   "source": []
  }
 ],
 "metadata": {
  "kernelspec": {
   "display_name": "R",
   "language": "R",
   "name": "ir"
  },
  "language_info": {
   "codemirror_mode": "r",
   "file_extension": ".r",
   "mimetype": "text/x-r-source",
   "name": "R",
   "pygments_lexer": "r",
   "version": "3.4.4"
  }
 },
 "nbformat": 4,
 "nbformat_minor": 2
}
