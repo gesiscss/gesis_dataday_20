{
 "cells": [
  {
   "cell_type": "markdown",
   "metadata": {},
   "source": [
    "# Analyse von Daten über die Facebook Ad Library API"
   ]
  },
  {
   "cell_type": "markdown",
   "metadata": {},
   "source": [
    "In diesem Notebook sammeln und explorieren wir Daten zu Facebook-Anzeigen von Politiker_innen über die [Facebook Ad Library API](https://www.facebook.com/ads/library/api/). Die Inhalte dieses Notebooks orientieren sich an einem sehr empfehlenswerten [Blog-Post von Roland Schmidt](https://rpubs.com/zoowalk/FB_EP2019), in dem er Daten aus der Facebook Ad Library zur Europaparlamentswahl in Österreich analysiert. Auch in vorliegenden Notebook analysieren wir Daten zur EP-Wahl 2019. Dabei fokussieren wir uns auf die beiden Politiker_innen [Katarina Barley (SPD)](https://de.wikipedia.org/wiki/Katarina_Barley) und [Nicola Beer (FDP)](https://de.wikipedia.org/wiki/Nicola_Beer), da sie die jeweiligen Spitzenkandidatinnen ihrer Parteien waren, auch aus der Bundespolitik bekannt sind und zudem in den sozialen Medien (Facebook & Twitter) recht aktiv sind."
   ]
  },
  {
   "cell_type": "markdown",
   "metadata": {},
   "source": [
    "## Vorbereitung"
   ]
  },
  {
   "cell_type": "markdown",
   "metadata": {},
   "source": [
    "Bevor wir mir der Sammlung und Analyse der Daten beginnen können, müssen wir zunächst die benötigten `R`-Pakete laden. Zudem verändern wir für die Erstellung der Graphiken das Zahlenformat (Nutzung der Scientific Notation erst ab zehnstelligen Zahlen)."
   ]
  },
  {
   "cell_type": "code",
   "execution_count": null,
   "metadata": {},
   "outputs": [],
   "source": [
    "library(tidyverse)\n",
    "library(httr)\n",
    "library(lubridate)\n",
    "library(scales)\n",
    "library(lemon)\n",
    "library(sf)\n",
    "library(tmap)\n",
    "library(tidytext)\n",
    "\n",
    "options(scipen=10)"
   ]
  },
  {
   "cell_type": "markdown",
   "metadata": {},
   "source": [
    "## Datensammlung"
   ]
  },
  {
   "cell_type": "markdown",
   "metadata": {},
   "source": [
    "Der erste Schritt ist die Sammlung der Daten über die Facebook Ad Library API. Hierfür benötigt man das über den [API Explorer](https://developers.facebook.com/tools/explorer/) generierte Access Token. Mit dem nachfolgenden Code sammelt man alle Daten zu Anzeigen aus der Ad Library, die über den den gesamten verfügbaren Zeitraum in Deutschland geschaltet wurden. Da dies sehr lange dauert, ist der Code in der nachfolgenden Zelle auskommentiert. Für den heutigen Workshop arbeiten wir mit einer Auswahl an Daten (für die beiden oben genannten Politikerinnen), die wir bereits zuvor gesammelt und aufbereitet haben. Über die Anpassung der `search_fields` kann man die Auswahl der Daten verändern. Hierzu empfiehlt es sich, einen Blick auf die Dokumentation für die [Ad Library API](https://www.facebook.com/ads/library/api/) zu den Suchparametern zu werfen."
   ]
  },
  {
   "cell_type": "code",
   "execution_count": null,
   "metadata": {},
   "outputs": [],
   "source": [
    "# zuerst weisen wir den Link zur Facebook-API einem Objekt zu\n",
    "# my_link<- \"https://graph.facebook.com\"\n",
    "# \n",
    "# hier definieren wir die Suchfelder für die Ad Library API\n",
    "# search_fields=c(\"ad_creation_time\", \"ad_delivery_start_time\", \"ad_delivery_stop_time\",\n",
    "#                 \"ad_creative_body\", \n",
    "#                 \"page_id\",\n",
    "#                 \"page_name\",\n",
    "#                 \"currency\",\n",
    "#                 \"spend\",\n",
    "#                 \"demographic_distribution\",\n",
    "#                 \"funding_entity\",\n",
    "#                 \"impressions\",\n",
    "#                 \"region_distribution\") %>% \n",
    "#   stringr::str_c(., collapse=\", \")\n",
    "# \n",
    "# hier sammeln wir die Daten für die erste Seite der Suchanfrage\n",
    "# um eine Response auf den API Request zu bekommen, muss man mit dem Account, mit dem die App erstellt wurde, bei Facebook eingeloggt sein\n",
    "# wenn der Zugriff nicht funktioniert, kann es evtl. daran liegen, dass man (über den Graph API Explorer) ein neues User Access Token generieren muss\n",
    "# page_one_response <- GET(my_link,\n",
    "#                          path = \"/ads_archive\",\n",
    "#                          query = list(access_token = \"\", # hier zuvor generierten User Access Token einfügen\n",
    "#                                       limit=100,\n",
    "#                                       ad_active_status=\"ALL\",\n",
    "#                                       search_terms=\"''\",\n",
    "#                                       fields=search_fields,\n",
    "#                                       ad_reached_countries=\"DE\"))\n",
    "# page_one_content<- content(page_one_response)\n",
    "# \n",
    "# aus dem Ergebnis der Anfrage (Liste) erstellen wir nun einen Dataframe\n",
    "# x <- tibble(data=page_one_content$data)\n",
    "# df_imp <- x %>% \n",
    "#   unnest_wider(data) \n",
    "# \n",
    "# # Link für die nächste Ergebnisseite extrahieren\n",
    "# next_link <- page_one_content$paging$`next`\n",
    "# \n",
    "# für alle Ergebnisseiten wiederholen (d.h. bis es keinen Link zur Next Page mehr gibt) und Datensatz zusammenführen\n",
    "# while(length(next_link)>0) {\n",
    "#   \n",
    "#   next_response <- GET(next_link)\n",
    "#   next_content<- content(next_response)\n",
    "#   \n",
    "#   y <- tibble(data=next_content$data)\n",
    "#   df_next <- y %>% \n",
    "#     unnest_wider(data) \n",
    "#   \n",
    "#   df_imp <- bind_rows(df_imp, df_next)  \n",
    "#   \n",
    "#   next_link <- next_content$paging$`next`\n",
    "# }"
   ]
  },
  {
   "cell_type": "markdown",
   "metadata": {},
   "source": [
    "Da die Sammlung der Daten über die Ad Library API einige Zeit dauern kann, empfiehlt es sich, die Daten zu speichern (z.B. im `R`-eigenen Datenformat `.rds`). NB: Der Dateipfad in der nachfolgenden Code-Zelle muss entsprechend angepasst werden. Im Beispiel wird die Datei im Ordner `data` gespeichert, der sich im selben Verzeichnis befindet wie das Skript, in dem dieser Code ausgeführt wird. "
   ]
  },
  {
   "cell_type": "code",
   "execution_count": null,
   "metadata": {},
   "outputs": [],
   "source": [
    "# .rds-Datei\n",
    "# saveRDS(df_imp, \"./data/my_data.rds\")"
   ]
  },
  {
   "cell_type": "markdown",
   "metadata": {},
   "source": [
    "## Datenaufbereitung"
   ]
  },
  {
   "cell_type": "markdown",
   "metadata": {},
   "source": [
    "Bevor wir die Daten analysieren und für die Erstellung von Plots verwenden können, müssen diese zunächst aufbereitet werden. Da wir Ihnen für diesen Workshop bereits aufbereitete Daten zu den Facebook-Werbeanzeigen, die von Katarina Barley (SPD) und Nicola Beer (FDP) im Zeitraum vom 01.05.2019 bis zum 26.05.2019 (= Tag der EP-Wahl) geschaltet wurden, zur Verfügung stellen, ist der Code in der nachfolgenden Zelle größtenteils auskommentiert."
   ]
  },
  {
   "cell_type": "code",
   "execution_count": null,
   "metadata": {},
   "outputs": [],
   "source": [
    "# zeitlichen Rahmen für die Auswahl der Daten festlegen\n",
    "date_observation_start <- lubridate::ymd(\"2019-05-01\") # Startdatum\n",
    "date_observation_end <- lubridate::ymd(\"2019-05-26\") # Enddatum\n",
    "#\n",
    "# Parteifarben für Plots festlegen\n",
    "colors <- c(\"#E30013\", \"#FFEE00\") # SPD rot, FDP gelb\n",
    "#\n",
    "# Datensatz mit Daten zu den ausgewählten Politikerinnen (Name + Parteizugehörigkeit)\n",
    "# candidates <- tribble(\n",
    "#  ~name, ~party\n",
    "#  \"Katarina Barley\", \"SPD\"\n",
    "#  \"Nicola Beer\", \"FDP\"\n",
    "#)\n",
    "#\n",
    "# Datensatz erstellen, der auf ausgewählte Politikerinnen und definierten Zeitraum beschränkt ist\n",
    "# df_x <- df_imp %>% \n",
    "#  filter(page_name %in% candidates$name) %>% \n",
    "#  mutate_at(vars(contains(\"time\")), lubridate::ymd_hms) %>% \n",
    "#  filter(ad_delivery_start_time %within% interval(date_observation_start,\n",
    "#                                            date_observation_end)) %>% \n",
    "#  left_join(candidates, by=c(\"page_name\"=\"name\")) %>% \n",
    "#  mutate(candidate=paste0(page_name, \" (\", party, \")\"),\n",
    "#         ad_delivery_start_date = date(ad_delivery_start_time)) %>% \n",
    "#  arrange(page_name, ad_delivery_start_time) %>% \n",
    "#  group_by(page_name, ad_delivery_start_date) %>% \n",
    "#  mutate(ad_id=paste(stringr::str_remove_all(page_name, \"[:space:]\"), \n",
    "#                     lubridate::date(ad_creation_time),\n",
    "#                     row_number(), sep=\"-\")) %>% \n",
    "#  ungroup()"
   ]
  },
  {
   "cell_type": "markdown",
   "metadata": {},
   "source": [
    "Über das separate Notebook [get_fb_ad_data](./get_fb_ad_data.ipynb) können wir einen für diesen Workshop bereits erstellten zugeschnittenen und aufbereiteten Datensatz herunterladen. Nachdem wir die eine Code-Zelle in diesem Notebook ausgeführt haben, können wir hier die Daten, die im `R`-eigenen `.rds`-Format vorliegen, einlesen und einem Objekt zuweisen, welches wir dann für unsere Analysen nutzen."
   ]
  },
  {
   "cell_type": "code",
   "execution_count": null,
   "metadata": {},
   "outputs": [],
   "source": [
    "df_x <- readRDS(\"./data/fb_ad_library_data_dataday2020.rds\")"
   ]
  },
  {
   "cell_type": "code",
   "execution_count": null,
   "metadata": {},
   "outputs": [],
   "source": [
    "nrow(df_x)\n",
    "table(df_x$candidate)"
   ]
  },
  {
   "cell_type": "markdown",
   "metadata": {},
   "source": [
    "Im Datensatz sind insgesamt 1506 verschiedene Werbeanzeigen enthalten: 1410 von Katarina Barley (SPD) und 96 von Nicola Beer (FDP)."
   ]
  },
  {
   "cell_type": "markdown",
   "metadata": {},
   "source": [
    "## Anzahl neuer Anzeigen pro Tag"
   ]
  },
  {
   "cell_type": "markdown",
   "metadata": {},
   "source": [
    "Der nachfolgende Plot stellt dar, wie viele neue Anzeigen die beiden Politikerinnen vom 01.05. bis zum 26.05.2019 auf Facebook neu geschaltet haben."
   ]
  },
  {
   "cell_type": "code",
   "execution_count": null,
   "metadata": {},
   "outputs": [],
   "source": [
    "# Datensatz mit der Anzahl neuer Anzeigen pro Tag\n",
    "ads_per_day <- df_x %>% \n",
    "  group_by(page_name, ad_delivery_start_date) %>% \n",
    "  summarize(n_ads_day = n())\n",
    "\n",
    "# Plot\n",
    "ads_per_day %>% \n",
    "  ggplot() +\n",
    "  geom_bar(aes(x=ad_delivery_start_date,\n",
    "               y=n_ads_day,\n",
    "               fill = page_name,\n",
    "               color = page_name),\n",
    "           stat=\"identity\") +\n",
    "  scale_x_date(breaks=seq.Date(date_observation_end-lubridate::weeks(4), date_observation_end, by = \"week\"),\n",
    "               labels=scales::date_format(\"%d. %b\"),\n",
    "               expand=expand_scale(mult=c(0,0.05))) +\n",
    "  scale_y_continuous(expand=expand_scale(mult=c(0,0.1)))+\n",
    "  labs(title=\"Anzahl neu geschalteter Facebook-Anzeigen pro Tag\",\n",
    "       subtitle=paste0(\"Zeitraum: \",\n",
    "                       format(date(date_observation_start), \"%d. %b %Y\"), \" bis \",\n",
    "                       format(date(date_observation_end), \"%d. %b %Y\")))+\n",
    "  scale_fill_manual(values = colors) +\n",
    "  scale_color_manual(values = colors) +\n",
    "  theme(axis.title=element_blank(),\n",
    "        panel.grid.minor.x = element_blank(),\n",
    "        legend.position = \"none\")+\n",
    "  facet_wrap(~ page_name)"
   ]
  },
  {
   "cell_type": "markdown",
   "metadata": {},
   "source": [
    "## Gesamtausgaben für Facebook-Anzeigen"
   ]
  },
  {
   "cell_type": "markdown",
   "metadata": {},
   "source": [
    "Für die Kosten pro Anzeige liefert die Facebook Ad Library API keine exakten Werte. Stattdessen bekommt man kategoriale Daten (Kostenintervall mit Unter- und Obergrenze für jede Anzeige). Um mit diesen Daten arbeiten zu können, müssen sie wiederum aufbereitet werden."
   ]
  },
  {
   "cell_type": "code",
   "execution_count": null,
   "metadata": {},
   "outputs": [],
   "source": [
    "df_x1 <- df_x %>% \n",
    "  unnest_wider(spend, names_sep = \"_\") %>% # nested data\n",
    "  mutate_at(vars(contains(\"bound\")), as.numeric) %>% \n",
    "  mutate(spend_mid=(spend_upper_bound-spend_lower_bound)/2+spend_lower_bound) %>% # Berechnung des Mittelpunkts der Intervalle\n",
    "  mutate(spend_interval=paste0(spend_lower_bound,\" - \",spend_upper_bound, \" €\")) %>% \n",
    "  mutate(spend_interval=forcats::fct_reorder(spend_interval, spend_mid)) %>% \n",
    "  mutate(spend_interval=forcats::fct_expand(spend_interval, \"5000-9999 €\")) %>% \n",
    "  mutate(spend_interval=forcats::fct_relevel(spend_interval, \"5000-9999 €\", after=4))\n",
    "# Kategorie für Kosten zwischen 5000 und 10000 Euro manuell ergänzt\n",
    "\n",
    "# Gesamtausgaben pro Kandidatin\n",
    "df_spend_total <- df_x1 %>%\n",
    "  group_by(candidate) %>%\n",
    "  summarise(spend_min_total=sum(spend_lower_bound, na.rm = T),\n",
    "            spend_mid_total=sum(spend_mid, na.rm=T),\n",
    "            spend_max_total=sum(spend_upper_bound, na.rm=T)) \n",
    "\n",
    "max_spend <- max(df_spend_total$spend_max_total)"
   ]
  },
  {
   "cell_type": "markdown",
   "metadata": {},
   "source": [
    "Nun können wir die Gesamtausgaben für Facebook-Anzeigen im Zeitraum 01.-26.05.2019 für die beiden Politikerinnen vergleichen. Aufgrund der Art der Daten (Intervalle anstatt exakte Werte) sind Angaben zu den Gesamtausgaben mit einer gewissen Unsicherheit verbunden, die im folgenden Plot ebenfalls visualisiert werden soll."
   ]
  },
  {
   "cell_type": "code",
   "execution_count": null,
   "metadata": {},
   "outputs": [],
   "source": [
    "df_spend_total %>%   \n",
    "  ggplot()+\n",
    "  geom_errorbar(aes(x=reorder(candidate, spend_mid_total),\n",
    "                    ymin=spend_min_total,\n",
    "                    ymax=spend_max_total,\n",
    "                    color=candidate,\n",
    "                    width = 0.25))+\n",
    "  geom_point(aes(x=reorder(candidate, spend_mid_total),\n",
    "                 y=spend_mid_total,\n",
    "                 color=candidate))+\n",
    "  labs(title=\"Gesamtausgaben für Facebook-Anzeigen\",\n",
    "       subtitle=paste0(\"Zeitraum: \", \n",
    "                       format(date(date_observation_start), \"%d. %b %Y\"), \" bis \",\n",
    "                       format(date(date_observation_end), \"%d. %b %Y\")),\n",
    "       caption = \"Hinweis: \\nDie Facebook Ad Library API gibt anstelle exakter Zahlen \\nnur die Unter- und Obergrenze der Kosten für eine Anzeige aus.\") +\n",
    "  theme_bw()+\n",
    "  theme(axis.title = element_blank(),\n",
    "        panel.grid.major.y = element_blank(),\n",
    "        legend.position=\"none\")+\n",
    "  scale_color_manual(values=colors)+\n",
    "  scale_y_continuous(labels = function(x) paste(x, \"€\"), \n",
    "                     breaks=seq(0, 200000, 50000),\n",
    "                     minor_breaks = seq(25000, 175000, 50000),\n",
    "                     limits=c(0, max_spend + 10000),\n",
    "                     expand = c(0,0)) +\n",
    "  scale_x_discrete(expand=expand_scale(add=c(0.25,0.25)))+\n",
    "  coord_flip()"
   ]
  },
  {
   "cell_type": "markdown",
   "metadata": {},
   "source": [
    "Da die Daten zu den Kosten pro Anzeige über die Facebook Ad Library API nur in Form von Kategorien (Unter- und Obergrenzen) geliefert werden, ist eine Schätzung der Gesamtausgaben auf Grundlage dieser Daten entsprechend unpräzise. Besonders für Politikerinnen wie Katarina Barley, die viele Facebook-Anzeigen geschaltet haben, ist Spannbreite der geschätzten Gesamtkosten groß."
   ]
  },
  {
   "cell_type": "code",
   "execution_count": null,
   "metadata": {},
   "outputs": [],
   "source": [
    "df_spend_total"
   ]
  },
  {
   "cell_type": "markdown",
   "metadata": {},
   "source": [
    "## Anzahl der Anzeigen pro Preiskategorie"
   ]
  },
  {
   "cell_type": "markdown",
   "metadata": {},
   "source": [
    "Neben der Anzahl der geschalteten Anzeigen hängen die Gesamtkosten für Facebook-Werbung auch von den Kosten pro Anzeige ab. Politiker_innen können auf Facebook z.B. für die gleichen Gesamtkosten sehr viele günstige oder wenige teure Anzeigen schalten."
   ]
  },
  {
   "cell_type": "code",
   "execution_count": null,
   "metadata": {},
   "outputs": [],
   "source": [
    "# Datensatz mit Anzahl der Anzeigen pro Preiskategorie für jede Person\n",
    "ads_per_category <- df_x1 %>% \n",
    "  group_by(candidate, spend_interval, .drop = F) %>% \n",
    "  summarise(n_ads=n()) %>% \n",
    "  arrange(candidate)\n",
    "\n",
    "# Plot\n",
    "ads_per_category %>% \n",
    "  ggplot()+\n",
    "  geom_bar(aes(x=spend_interval,\n",
    "               y=n_ads,\n",
    "               fill=candidate),\n",
    "           color=\"transparent\",\n",
    "           stat=\"identity\")+\n",
    "  geom_text(data=. %>% filter(n_ads>0),\n",
    "            aes(x=spend_interval,\n",
    "                y=n_ads,\n",
    "                label=n_ads),\n",
    "            size = 4,\n",
    "            hjust=-0.25)+\n",
    "  labs(title=\"Anzahl an Facebook-Anzeigen pro Preiskategorie\",\n",
    "       subtitle=paste0(\"Zeitraum: \",\n",
    "                       format(date(date_observation_start), \"%d. %b %Y\"), \" bis \",\n",
    "                       format(date(date_observation_end), \"%d. %b %Y\")),\n",
    "       caption = \"Hinweis: \\nDie Facebook Ad Library API gibt anstelle exakter Zahlen \\nnur die Unter- und Obergrenze der Kosten für eine Anzeige aus.\",\n",
    "       x=\"Anzahl der Anzeigen\",\n",
    "       y=\"Preiskategorie\")+\n",
    "  scale_y_continuous(expand=expand_scale(mult=c(0, 0.2)),\n",
    "                     breaks=waiver(),\n",
    "                     minor_breaks = NULL)+\n",
    "  scale_fill_manual(values=colors) +\n",
    "  theme(axis.title=element_blank(),\n",
    "        panel.grid.minor.y = element_blank(),\n",
    "        panel.grid.major.y = element_blank(),\n",
    "        legend.position = \"none\")+\n",
    "  facet_wrap(vars(candidate),\n",
    "             scales = \"free_x\")+\n",
    "  coord_flip()"
   ]
  },
  {
   "cell_type": "markdown",
   "metadata": {},
   "source": [
    "Im Plot zeigt sich, dass Katarina Barley im betrachteten Zeitraum deutlich mehr Anzeigen auf Facebook geschaltet als Nicola Beer. Die teuerste Anzeige von Katarina Barley hat zwischen 500 und 999 Euro gekostet. Nicola Beer hat hingegen auch 10 Anzeigen in der Preiskategorie von 1000 bis 4999 Euro geschaltet."
   ]
  },
  {
   "cell_type": "markdown",
   "metadata": {},
   "source": [
    "## Geschlecht und Alter der erreichten Zielgruppe"
   ]
  },
  {
   "cell_type": "markdown",
   "metadata": {},
   "source": [
    "Die Facebook Ad Library API liefert auch Informationen zu Geschlecht und Alter der Personen, die durch eine Anzeige erreicht wurden. Ähnlich wie bei den Kosten wird das Alter der Personen, welche die Anzeige gesehen haben, lediglich in Kategorien angegeben. Für die weiteren Auswertungen muss zunächst die Anzahl an Impressions pro Anzeige berechnet werden. [Facebook for Business](https://www.facebook.com/business/help/675615482516035) definiert Impressionen wie folgt: \"Eine Impression gibt an, wie oft eine Werbeanzeigeninstanz zum ersten Mal auf einem Bildschirm angezeigt wurde. (Beispiel: Wenn eine Anzeige auf dem Bildschirm angezeigt wird und jemand nach unten und wieder hoch zu derselben Werbeanzeige scrollt, zählt das als eine Impression. Wenn eine Anzeige einer Person zu zwei verschiedenen Zeiten an einem Tag auf dem Bildschirm angezeigt wird, werden zwei Impressionen gezählt.)\" "
   ]
  },
  {
   "cell_type": "code",
   "execution_count": null,
   "metadata": {},
   "outputs": [],
   "source": [
    "impression_per_ad <- df_x1 %>% \n",
    "  ungroup() %>% \n",
    "  unnest_wider(impressions, names_sep=\"_\") %>% \n",
    "  select(ad_id, candidate, contains(\"impressions\")) %>% \n",
    "  mutate_at(vars(\"impressions_lower_bound\", \n",
    "                 \"impressions_upper_bound\"),\n",
    "            as.numeric) %>% \n",
    "  mutate(impressions_category=paste(impressions_lower_bound, \"-\", impressions_upper_bound)) %>%\n",
    "  mutate(impressions_mid=(impressions_upper_bound-impressions_lower_bound)/2+impressions_lower_bound) %>%  \n",
    "  mutate(impressions_category=as.factor(impressions_category) %>%\n",
    "           forcats::fct_reorder(., impressions_mid))"
   ]
  },
  {
   "cell_type": "markdown",
   "metadata": {},
   "source": [
    "Im nächsten Schritt müssen die Daten so aufbereitet werden, dass eine Berechnung des Anteils an Impressions pro Geschlecht (m/w) und Alterskategorie möglich ist."
   ]
  },
  {
   "cell_type": "code",
   "execution_count": null,
   "metadata": {},
   "outputs": [],
   "source": [
    "df_demographics_unnested <- df_x1 %>% \n",
    "  select(ad_id, demographic_distribution, candidate) %>% \n",
    "  unnest_longer(demographic_distribution) %>% \n",
    "  unnest_wider(demographic_distribution) %>% \n",
    "  mutate(percentage=as.numeric(percentage)) %>% \n",
    "  mutate(gender=as.factor(gender),\n",
    "         age=as.factor(age))  %>% \n",
    "  complete(ad_id, nesting(age, gender), fill=list(percentage=0)) %>% # Wert 0 für Kombinationen von Alter- und Geschlecht festlegen, für die es keine Daten gibt (wichtig für die Berechnung von Mittelwerten)\n",
    "  group_by(ad_id) %>% \n",
    "  fill(candidate, .direction = c(\"downup\")) %>% \n",
    "  ungroup() %>% \n",
    "  left_join(., impression_per_ad %>% select(ad_id, impressions_mid))\n",
    "\n",
    "# gewichteten Mittelwert berechnen\n",
    "df_demographics_all_ads <- df_demographics_unnested %>% \n",
    "  group_by(candidate, gender, age) %>% \n",
    "  filter(!is.na(impressions_mid)) %>% \n",
    "  summarise(mean_percentage=mean(x=percentage, \n",
    "                                 w=impressions_mid,\n",
    "                                 na.rm = T)) %>% \n",
    "  ungroup()"
   ]
  },
  {
   "cell_type": "markdown",
   "metadata": {},
   "source": [
    "Die prozentuale Verteilung von Impressions für die Anzeigen nach Alter und Geschlecht lässt sich bspw. über eine Heatmap darstellen."
   ]
  },
  {
   "cell_type": "code",
   "execution_count": null,
   "metadata": {},
   "outputs": [],
   "source": [
    "df_demographics_all_ads %>% \n",
    "  filter(gender %in% c(\"male\", \"female\")) %>% \n",
    "  mutate(gender = recode(gender, \"male\" = \"männlich\", \"female\" = \"weiblich\")) %>% \n",
    "  ggplot()+\n",
    "  geom_tile(aes(x=gender, y=age,\n",
    "                fill=mean_percentage))+\n",
    "  geom_text(aes(x=gender, y=age,\n",
    "                label=scales::percent(mean_percentage,\n",
    "                                      accuracy = .1)),\n",
    "            size=4,\n",
    "            color=\"white\")+\n",
    "  labs(title=\"Durschnittliche Verteilung der Impressions für Facebook-Anzeigen \\nnach Alter und Geschlecht der Nutzer_innen\",\n",
    "      caption = \"Hinweis: \\nDie Anzahl der Impressions gibt an, wie oft eine Anzeige zum ersten Mal auf dem Bildschirm angezeigt wurde.\")+\n",
    "  theme(legend.position=\"none\",\n",
    "        panel.grid = element_blank(),\n",
    "        axis.title=element_blank())+\n",
    "  lemon::facet_rep_wrap(vars(candidate),\n",
    "                        repeat.tick.labels = T)"
   ]
  },
  {
   "cell_type": "markdown",
   "metadata": {},
   "source": [
    "Der Plot zeigt, dass Katarina Barley mit ihren Anzeigen v.a. junge Menschen erreicht hat und im jüngsten Alterssegment (18 bis 24) mehr Frauen als Männer. Die Anzeigen von Nicola Beer haben hingegen v.a. Männer im Alter von 18 bis 54 erreicht."
   ]
  },
  {
   "cell_type": "markdown",
   "metadata": {},
   "source": [
    "## Regionale Verteilung der Impressions"
   ]
  },
  {
   "cell_type": "markdown",
   "metadata": {},
   "source": [
    "Neben der Verteilung der Impressions nach Alter und Geschlecht der Nutzer_innen kann man sich mit den Daten aus der Facebook Ad Library auch anschauen, wie sich die Impressions für die Werbeanzeigen (bestimmter Politiker_innen) über die Bundesländer verteilen. Auch hierfür müssen die Daten im ersten Schritt wieder entsprechend aufbereitet werden. Hinweis: Da die Aufbereitung diesmal etwas umfangreicher ist, kann die Ausführung der nächsten Code-Zelle einen Moment dauern."
   ]
  },
  {
   "cell_type": "code",
   "execution_count": null,
   "metadata": {},
   "outputs": [],
   "source": [
    "df_region <- df_x1 %>% \n",
    "  mutate(ad_id=as_factor(ad_id)) %>% \n",
    "  select(ad_id, region_distribution, candidate) %>% \n",
    "  unnest_longer(region_distribution) %>% \n",
    "  unnest_wider(region_distribution) %>% \n",
    "  mutate(percentage=as.numeric(percentage), \n",
    "         region=as_factor(region)) %>% \n",
    "  mutate(region=forcats::fct_infreq(region, ordered=T)) %>% \n",
    "  complete(ad_id, nesting(region), fill=list(percentage=0)) %>% \n",
    "  group_by(ad_id) %>% \n",
    "  arrange(candidate) %>% \n",
    "  fill(candidate, .direction = c(\"down\"))  %>% \n",
    "  filter(region != \"Unknown\") %>% \n",
    "  mutate(region = recode(region,\n",
    "                         \"Saxony-Anhalt\" = \"Sachsen-Anhalt\")) %>% \n",
    "  ungroup() %>% \n",
    "  left_join(., \n",
    "            impression_per_ad %>% select(ad_id, impressions_mid), \n",
    "            by=c(\"ad_id\")) %>% \n",
    "  filter(!is.na(impressions_mid)) %>% \n",
    "  group_by(candidate, region) %>% \n",
    "  summarise(ad_mean=weighted.mean(percentage, \n",
    "                                  w=impressions_mid,\n",
    "                                  na.rm=T)) %>% \n",
    "  mutate(ad_mean = round(ad_mean, 2)) %>% \n",
    "  ungroup()"
   ]
  },
  {
   "cell_type": "markdown",
   "metadata": {},
   "source": [
    "Um die Daten auf einer Deutschlandkarte darstellen zu können, benötigen wir ein entsprechendes sogenanntes Shapefile. Dieses bekommt man beim [Bundesamt für Kartograhpie und Geodäsie](https://www.bkg.bund.de/DE/Home/home.html). Für den nachfolgenden Plot benötigen wir die [NUTS-Gebiete 1:250 000](https://gdz.bkg.bund.de/index.php/default/catalog/product/view/id/773/s/nuts-gebiete-1-250-000-stand-01-01-nuts250-01-01/category/8/?___store=default): ZIP-File UTM32s, Format: shape herunterladen und entpacken. Zusätzlich benötigen wir noch 2 separate Dataframes mit dem Mittelwert für die Impressions für jede der beiden Politikerinnen. "
   ]
  },
  {
   "cell_type": "code",
   "execution_count": null,
   "metadata": {},
   "outputs": [],
   "source": [
    "# Karten Daten vom BKG herunterladen und entpacken\n",
    "download.file(\"https://daten.gdz.bkg.bund.de/produkte/vg/nuts250_1231/aktuell/nuts250_12-31.utm32s.shape.zip\", \"./data/nuts250_sf.zip\")\n",
    "unzip(\"./data/nuts250_sf.zip\", exdir = \"data\")\n",
    "\n",
    "# Einlesen der Deutschlandkarte mit Bundesländergrenzen\n",
    "nuts_de <-\n",
    "  read_sf(\"./data/nuts250_2018-12-31.utm32s.shape/nuts250/250_NUTS1.shp\") %>% \n",
    "  filter(GF == 4) # ohne Wasser\n",
    "\n",
    "# Erstellung von Dataframes mit Impressions pro Bundesland für jede Kandidatin\n",
    "regions_barley <- df_region %>% \n",
    "  filter(candidate == \"Katarina Barley (SPD)\") %>% \n",
    "  select(region, ad_mean) %>% \n",
    "  mutate(ad_perc = ad_mean*100)\n",
    "\n",
    "regions_beer <- df_region %>% \n",
    "  filter(candidate == \"Nicola Beer (FDP)\") %>% \n",
    "  select(region, ad_mean) %>% \n",
    "  mutate(ad_perc = ad_mean*100)\n",
    "\n",
    "# Karte mit Daten verbinden und Plots erstellen\n",
    "map_barley <- dplyr::left_join(\n",
    "    nuts_de, regions_barley,\n",
    "    by = c(\"NUTS_NAME\" = \"region\")\n",
    "  )\n",
    "\n",
    "tm_shape(map_barley) +\n",
    "  tm_polygons(\"ad_perc\",\n",
    "              style = \"cont\",\n",
    "              title = \"Anteil der Impressions (in %)\") +\n",
    "  tm_layout(title = paste(\"Durschnittliche regionale Verteilung der Impressions \\nfür Facebook-Anzeigen von Katarina Barley (SPD) \\nim Zeitraum vom\", format(date(date_observation_start), \"%d. %b %Y\"), \"bis zum\",\n",
    "                          format(date(date_observation_end), \"%d. %b %Y\")),\n",
    "            title.fontface = \"bold\",\n",
    "            legend.outside = T,\n",
    "            legend.position = c(\"right\", \"center\"),\n",
    "            legend.title.size = 0.75,\n",
    "            frame = F) +\n",
    "  tm_credits(\"(c) GeoBasis-DE / BKG (2020)\", position=c(\"left\", \"bottom\"))\n",
    "\n",
    "map_beer <- dplyr::left_join(\n",
    "  nuts_de, regions_beer,\n",
    "  by = c(\"NUTS_NAME\" = \"region\")\n",
    ")\n",
    "\n",
    "tm_shape(map_beer) +\n",
    "  tm_polygons(\"ad_perc\",\n",
    "              style = \"cont\",\n",
    "              title = \"Anteil der Impressions (in %)\") +\n",
    "  tm_layout(title = paste(\"Durschnittliche regionale Verteilung der Impressions \\nfür Facebook-Anzeigen von Nicola Beer (FPD) \\nim Zeitraum vom\", format(date(date_observation_start), \"%d. %b %Y\"), \"bis zum\",\n",
    "                          format(date(date_observation_end), \"%d. %b %Y\")),\n",
    "            title.fontface = \"bold\",\n",
    "            legend.outside = T,\n",
    "            legend.position = c(\"right\", \"center\"),\n",
    "            legend.title.size = 0.75,\n",
    "            frame = F) +\n",
    "  tm_credits(\"(c) GeoBasis-DE / BKG (2020)\", position=c(\"left\", \"bottom\"))"
   ]
  },
  {
   "cell_type": "markdown",
   "metadata": {},
   "source": [
    "Die Plots zeigen, dass der der größte Anteil von Impressions für die Facebook-Anzeigen von Katarina Barley aus Nordrhein-Westfalen kam. Bei Nicola Beer ist Hessen der regionale Schwerpunkt der Impressions."
   ]
  },
  {
   "cell_type": "markdown",
   "metadata": {},
   "source": [
    "## Text der Werbeanzeigen"
   ]
  },
  {
   "cell_type": "markdown",
   "metadata": {},
   "source": [
    "Analog zur Analyse von Tweets kann man auch für die Texte der Facebook-Anzeigen einfache Auswertungen wie die Berechnung von (relativen) Worthäufigkeiten erstellen. Wie immer ist hierfür zuerst Datenaufbereitung nötig."
   ]
  },
  {
   "cell_type": "code",
   "execution_count": null,
   "metadata": {},
   "outputs": [],
   "source": [
    "ad_text <- df_x %>% \n",
    "  select(ad_creative_body, candidate, ad_id) %>% \n",
    "  unnest_tokens(word, ad_creative_body) %>% # Aufteilung der Texte -> ein Wort pro Reihe im Datensatz\n",
    "  anti_join(.,\n",
    "            get_stopwords(language =\"de\")) %>% # Stopwörter entfernen\n",
    "  filter(str_detect(word, \"[a-z]\"), \n",
    "         nchar(word) > 2, # nur Wörter mit mindestens 2 Zeichen\n",
    "  )"
   ]
  },
  {
   "cell_type": "markdown",
   "metadata": {},
   "source": [
    "Zunächst einmal kann man sich einfach die häufigsten Wörter in den Facebook-Anzeigen für die beiden Politikerinnen im Vergleich anschauen. NB: Aufgrund des großen Unterschieds in der Anzahl der Facebook-Anzeigen unterscheiden sich auch die absoluten Worthäufigkeiten entsprechend."
   ]
  },
  {
   "cell_type": "code",
   "execution_count": null,
   "metadata": {},
   "outputs": [],
   "source": [
    "frequency <- ad_text %>% # Worthäufigkeiten pro Kandidatin\n",
    "  count(candidate, word)\n",
    "\n",
    "# Plot\n",
    "frequency %>%\n",
    "  group_by(candidate) %>%\n",
    "  top_n(20) %>%\n",
    "  ungroup() %>%\n",
    "  ggplot(aes(reorder_within(word, n, candidate), n,\n",
    "             fill = candidate)) +\n",
    "  geom_col() +\n",
    "  scale_x_reordered() +\n",
    "  coord_flip() +\n",
    "  facet_wrap(~candidate, scales = \"free\") +\n",
    "  scale_y_continuous(expand=expand_scale(mult=c(0, 0.1))) +\n",
    "  labs(title=\"Häufigste Wörter in Facebook-Anzeigen\", \n",
    "       subtitle=\"Zeitraum: 01. Mai bis 26. Mai 2019\",\n",
    "       x= NULL, \n",
    "       y= \"Word Count\")+\n",
    "  theme(axis.title = element_blank(),\n",
    "        panel.grid.major.y = element_blank(),\n",
    "        legend.position=\"none\") +\n",
    "  scale_fill_manual(values = colors)"
   ]
  },
  {
   "cell_type": "markdown",
   "metadata": {},
   "source": [
    "Darüber hinaus kann man bspw. auch die relativen Häufigkeiten von Wörtern vergleichen, die in den Anzeigetexten beider Politikerinnen enthalten sind."
   ]
  },
  {
   "cell_type": "code",
   "execution_count": null,
   "metadata": {},
   "outputs": [],
   "source": [
    "rel_freq <- frequency %>% \n",
    "  group_by(candidate) %>% \n",
    "  mutate(total = sum(n),\n",
    "         freq = n/total) %>% \n",
    "  ungroup() %>%\n",
    "  select(candidate, word, freq) %>% \n",
    "  spread(candidate, freq) %>% arrange(`Katarina Barley (SPD)`, `Nicola Beer (FDP)`)\n",
    "\n",
    "rel_freq %>% \n",
    "  ggplot(aes(`Katarina Barley (SPD)`, `Nicola Beer (FDP)`)) +\n",
    "  geom_point() +\n",
    "  geom_text(aes(label = word), check_overlap = T, vjust = 1.2) +\n",
    "  scale_x_log10(labels = percent_format()) +\n",
    "  scale_y_log10(labels = percent_format()) +\n",
    "  geom_abline(color = \"red\") +\n",
    "  labs(title=\"Vergleich der relativen Häufigkeit von Wörtern in Facebook-Anzeigen\", \n",
    "       subtitle=\"Zeitraum: 01. Mai bis 26. Mai 2019\")"
   ]
  },
  {
   "cell_type": "markdown",
   "metadata": {},
   "source": [
    "Aufgrund der sehr unterschiedlichen Anzahl an Werbeanzeigen sowie der geringen Anzahl von Anzeigen von Nicola Beer sind die Vergleiche der Worthäufigkeiten für diese beiden Politikerinnen mit Vorsicht zu interpretieren. Generell ist die Anzahl an unterschiedlichen Wörtern in diesem speziellen Textcorpus problematisch für jede Form von Text-Mining-Analyse."
   ]
  },
  {
   "cell_type": "code",
   "execution_count": null,
   "metadata": {},
   "outputs": [],
   "source": [
    "# Anzahl distinkter Wörter in den Anzeigetexten der beiden Kandidatinnen\n",
    "ad_text %>% \n",
    "  distinct(word) %>% \n",
    "  nrow()\n",
    "\n",
    "# Anzahl an Wörtern, die in den Anzeigen beider Politikerinnen enthalten sind\n",
    "rel_freq %>% \n",
    "  filter(!is.na(`Katarina Barley (SPD)`), !is.na(`Nicola Beer (FDP)`)) %>% \n",
    "  nrow()"
   ]
  },
  {
   "cell_type": "markdown",
   "metadata": {},
   "source": [
    "# Weitere Analysemöglichkeiten"
   ]
  },
  {
   "cell_type": "markdown",
   "metadata": {},
   "source": [
    "Zusätzlich zu den in diesem Notebook vorgestellten Analysen sind mit den Daten aus der Facebook Ad Library natürlich auch noch weitere Auswertungen möglich. So liefen die Daten z.B. auch Informationen dazu, wer die Werbeanzeigen bezahlt hat."
   ]
  },
  {
   "cell_type": "code",
   "execution_count": null,
   "metadata": {},
   "outputs": [],
   "source": [
    "df_x %>% \n",
    "  count(candidate, funding_entity)"
   ]
  },
  {
   "cell_type": "markdown",
   "metadata": {},
   "source": [
    "Im Fall von Katarina Barley und Nicola Beer sind diese Ergebnisse nicht besonders spannend, da die Facebook-Anzeigen von beiden jeweils ausschließlich von ihren jeweiligen Parteien finanziert wurden."
   ]
  },
  {
   "cell_type": "markdown",
   "metadata": {},
   "source": [
    "Für weitere Auswertungsideen lohnt sich ein Blick auf den zu Beginn dieses Notebooks erwähnten [Blog-Post von Roland Schmidt](https://rpubs.com/zoowalk/FB_EP2019). Einige der hier gezeigten Analysen lassen sich auch auf Daten aus dem [Google-Transparenzbericht zu politischer Werbung in Deutschland](https://transparencyreport.google.com/political-ads/region/DE) anwenden. Dieser kann über die Webseite vollständig heruntergeladen werden. Die Datenstruktur (verschiedene .csv-Dateien) wird in einer ReadMe-Datei erklärt. Der Code im vorliegenden Notebook muss zur Auswertung der Daten aus dem Google-Transparenzbericht entsprechend angepasst werden."
   ]
  }
 ],
 "metadata": {
  "kernelspec": {
   "display_name": "R",
   "language": "R",
   "name": "ir"
  },
  "language_info": {
   "codemirror_mode": "r",
   "file_extension": ".r",
   "mimetype": "text/x-r-source",
   "name": "R",
   "pygments_lexer": "r",
   "version": "3.6.2"
  }
 },
 "nbformat": 4,
 "nbformat_minor": 2
}
