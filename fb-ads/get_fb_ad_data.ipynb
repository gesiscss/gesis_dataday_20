{
 "cells": [
  {
   "cell_type": "markdown",
   "metadata": {},
   "source": [
    "Mit dem folgenden `Bash`-Befehl laden wir die zugeschnittenen und aufbereiteten Daten für diesen Workshop herunter. NB: Dies funktioniert nur auf Unix-Systemen (Linux & MacOS)."
   ]
  },
  {
   "cell_type": "code",
   "execution_count": null,
   "metadata": {},
   "outputs": [],
   "source": [
    "mkdir ./data\n",
    "curl https://gesisbox.gesis.org/index.php/s/AKDmd9dd8cKZBrk/download > ./data/fb_ad_library_data_dataday2020.rds"
   ]
  }
 ],
 "metadata": {
  "kernelspec": {
   "display_name": "Bash",
   "language": "bash",
   "name": "bash"
  },
  "language_info": {
   "codemirror_mode": "shell",
   "file_extension": ".sh",
   "mimetype": "text/x-sh",
   "name": "bash"
  }
 },
 "nbformat": 4,
 "nbformat_minor": 2
}
