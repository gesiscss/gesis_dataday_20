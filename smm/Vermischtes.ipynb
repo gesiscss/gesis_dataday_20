{
 "cells": [
  {
   "cell_type": "code",
   "execution_count": 10,
   "metadata": {},
   "outputs": [],
   "source": [
    "library(\"httr\")\n",
    "library(\"jsonlite\")\n",
    "library(\"ggplot2\")\n",
    "library('dplyr', warn.conflicts = FALSE)"
   ]
  },
  {
   "cell_type": "markdown",
   "metadata": {},
   "source": [
    "# Abruf aller Tweet IDs"
   ]
  },
  {
   "cell_type": "code",
   "execution_count": 31,
   "metadata": {},
   "outputs": [],
   "source": [
    "organization_id = 229\n",
    "from_date = '2018-11-01'\n",
    "to_date = '2018-12-31'\n",
    "text_contains = 'Berlin'"
   ]
  },
  {
   "cell_type": "code",
   "execution_count": 32,
   "metadata": {},
   "outputs": [],
   "source": [
    "#prepare urls\n",
    "base <- \"http://mediamonitoring.gesis.org/api/organizations/\"\n",
    "url_tweets <- paste(base,\"twitter/tweets_by/organizations/\", organization_id, \"/?\", sep=\"\")\n",
    "#\n",
    "#prepare parameters\n",
    "params = list(\n",
    "    from_date=from_date,\n",
    "    to_date=to_date,\n",
    "    text_contains = text_contains\n",
    ")\n",
    "\n",
    "# using the api to get the tweets and replies\n",
    "tweets_by = as.data.frame(fromJSON(content(GET(url_tweets, query=params), \"text\", encoding=\"UTF-8\"), flatten = TRUE))\n",
    "#\n"
   ]
  },
  {
   "cell_type": "code",
   "execution_count": 33,
   "metadata": {},
   "outputs": [
    {
     "data": {
      "text/html": [
       "33"
      ],
      "text/latex": [
       "33"
      ],
      "text/markdown": [
       "33"
      ],
      "text/plain": [
       "[1] 33"
      ]
     },
     "metadata": {},
     "output_type": "display_data"
    }
   ],
   "source": [
    "nrow(tweets_by)"
   ]
  },
  {
   "cell_type": "code",
   "execution_count": null,
   "metadata": {},
   "outputs": [],
   "source": [
    "merged"
   ]
  },
  {
   "cell_type": "code",
   "execution_count": null,
   "metadata": {},
   "outputs": [],
   "source": []
  }
 ],
 "metadata": {
  "kernelspec": {
   "display_name": "R",
   "language": "R",
   "name": "ir"
  },
  "language_info": {
   "codemirror_mode": "r",
   "file_extension": ".r",
   "mimetype": "text/x-r-source",
   "name": "R",
   "pygments_lexer": "r",
   "version": "3.5.1"
  }
 },
 "nbformat": 4,
 "nbformat_minor": 4
}
