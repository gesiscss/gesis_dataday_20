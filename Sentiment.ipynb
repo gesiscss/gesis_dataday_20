{
 "cells": [
  {
   "cell_type": "markdown",
   "metadata": {},
   "source": [
    "\n"
   ]
  },
  {
   "cell_type": "markdown",
   "metadata": {},
   "source": [
    "## Vergleich des Verhaltens von Politikern in Sozialen Medien"
   ]
  },
  {
   "cell_type": "code",
   "execution_count": null,
   "metadata": {},
   "outputs": [],
   "source": [
    "library(lubridate)\n",
    "library(ggplot2)\n",
    "library(dplyr)\n",
    "library(readr)\n",
    "library(magrittr)\n",
    "library(scales)\n",
    "library(tidytext)\n",
    "library(stringr)\n",
    "library(tidyr)\n",
    "source(\"SentiWS_v1.8c/SentiWS.R\")"
   ]
  },
  {
   "cell_type": "code",
   "execution_count": null,
   "metadata": {},
   "outputs": [],
   "source": []
  },
  {
   "cell_type": "code",
   "execution_count": null,
   "metadata": {},
   "outputs": [],
   "source": [
    "tweets_1.csv <- read_csv(\"twitter_output/twitter_1.csv\")\n",
    "tweets_2.csv <- read_csv(\"twitter_output/twitter_2.csv\")"
   ]
  },
  {
   "cell_type": "code",
   "execution_count": null,
   "metadata": {},
   "outputs": [],
   "source": [
    "tweets <- bind_rows(tweets_1.csv %>% mutate(collection = \"b_riexinger\"),\n",
    "                    tweets_2.csv %>% mutate(collection = \"Alice_Weidel\")) "
   ]
  },
  {
   "cell_type": "code",
   "execution_count": null,
   "metadata": {},
   "outputs": [],
   "source": [
    "head(tweets[, c(\"date\", \"username\", \"text\")], n = 5)"
   ]
  },
  {
   "cell_type": "code",
   "execution_count": null,
   "metadata": {},
   "outputs": [],
   "source": [
    "ggplot(tweets, aes(x = date, fill = collection)) +\n",
    "  geom_histogram(position = \"identity\", bins = 20, show.legend = FALSE) +\n",
    "  facet_wrap(~collection, ncol = 1)"
   ]
  },
  {
   "cell_type": "code",
   "execution_count": null,
   "metadata": {},
   "outputs": [],
   "source": [
    "stoppwords.de <-read.table(\"SentiWS_v1.8c/stopp_words_de.csv\")$V1 "
   ]
  },
  {
   "cell_type": "code",
   "execution_count": null,
   "metadata": {},
   "outputs": [],
   "source": [
    "remove_reg <- \"&amp;|&lt;|&gt;\"\n",
    "tidy_tweets <- tweets %>% \n",
    "  filter(!str_detect(text, \"^RT\")) %>%\n",
    "  unnest_tokens(word, text, token = \"tweets\") %>%\n",
    "  filter(!word %in% stoppwords.de,\n",
    "         !word %in% str_remove_all(stoppwords.de, \"'\"),\n",
    "         str_detect(word, \"[a-z]\"),\n",
    "         nchar(word) > 2,\n",
    "        )\n",
    "\n",
    "head(tidy_tweets, n = 5)"
   ]
  },
  {
   "cell_type": "code",
   "execution_count": null,
   "metadata": {},
   "outputs": [],
   "source": [
    "remove_reg <- \"&amp;|&lt;|&gt;\"\n",
    "tidy_tweets2 <- tweets %>% \n",
    "  filter(!str_detect(text, \"^RT\")) %>%\n",
    "  unnest_tokens(word, text, token = \"tweets\") %>%\n",
    "  filter(!word %in% stoppwords.de,\n",
    "         !word %in% str_remove_all(stoppwords.de, \"'\"),\n",
    "         str_detect(word, \"#[a-z]\"),\n",
    "         nchar(word) > 2,\n",
    "        )\n",
    "\n",
    "head(tidy_tweets2, n = 5)\n",
    "tidy_tweets <- tidy_tweets2"
   ]
  },
  {
   "cell_type": "code",
   "execution_count": null,
   "metadata": {},
   "outputs": [],
   "source": []
  },
  {
   "cell_type": "code",
   "execution_count": null,
   "metadata": {},
   "outputs": [],
   "source": []
  },
  {
   "cell_type": "code",
   "execution_count": null,
   "metadata": {},
   "outputs": [],
   "source": [
    "frequency <- tidy_tweets %>% \n",
    "  group_by(collection) %>% \n",
    "  count(word, sort = TRUE) %>% \n",
    "  left_join(tidy_tweets %>% \n",
    "              group_by(collection) %>% \n",
    "              summarise(total = n())) %>%\n",
    "  mutate(freq = n/total)"
   ]
  },
  {
   "cell_type": "code",
   "execution_count": null,
   "metadata": {},
   "outputs": [],
   "source": []
  },
  {
   "cell_type": "code",
   "execution_count": null,
   "metadata": {},
   "outputs": [],
   "source": []
  },
  {
   "cell_type": "code",
   "execution_count": null,
   "metadata": {},
   "outputs": [],
   "source": [
    "# write.csv(unique(frequency$word),\"SentiWS_v1.8c/stopp_words_de.csv\", row.names = FALSE)\n",
    "# stoppwords.de <- read.table(\"SentiWS_v1.8c/stopp_words_de.csv\")"
   ]
  },
  {
   "cell_type": "code",
   "execution_count": null,
   "metadata": {},
   "outputs": [],
   "source": []
  },
  {
   "cell_type": "code",
   "execution_count": null,
   "metadata": {},
   "outputs": [],
   "source": []
  },
  {
   "cell_type": "code",
   "execution_count": null,
   "metadata": {},
   "outputs": [],
   "source": [
    "frequency <- frequency %>% \n",
    "  select(collection, word, freq) %>% \n",
    "  spread(collection, freq) %>% arrange(Alice_Weidel, b_riexinger)\n",
    "\n",
    "frequency"
   ]
  },
  {
   "cell_type": "code",
   "execution_count": null,
   "metadata": {},
   "outputs": [],
   "source": [
    "ggplot(frequency, aes(Alice_Weidel, b_riexinger)) +\n",
    "  geom_jitter(alpha = 0.1, size = 2.5, width = 0.25, height = 0.25) +\n",
    "  geom_text(aes(label = word), check_overlap = TRUE, vjust = 1.5) +\n",
    "  scale_x_log10(labels = percent_format()) +\n",
    "  scale_y_log10(labels = percent_format()) +\n",
    "  geom_abline(color = \"red\")"
   ]
  },
  {
   "cell_type": "code",
   "execution_count": null,
   "metadata": {},
   "outputs": [],
   "source": []
  },
  {
   "cell_type": "code",
   "execution_count": null,
   "metadata": {},
   "outputs": [],
   "source": []
  },
  {
   "cell_type": "markdown",
   "metadata": {},
   "source": [
    "## Sentiment Analyse"
   ]
  },
  {
   "cell_type": "code",
   "execution_count": null,
   "metadata": {},
   "outputs": [],
   "source": [
    "SentiWS <- read.SentiWS()\n",
    "\n",
    "head(SentiWS, n = 5)"
   ]
  },
  {
   "cell_type": "code",
   "execution_count": null,
   "metadata": {},
   "outputs": [],
   "source": []
  }
 ],
 "metadata": {
  "kernelspec": {
   "display_name": "R",
   "language": "R",
   "name": "ir"
  },
  "language_info": {
   "codemirror_mode": "r",
   "file_extension": ".r",
   "mimetype": "text/x-r-source",
   "name": "R",
   "pygments_lexer": "r",
   "version": "3.4.4"
  }
 },
 "nbformat": 4,
 "nbformat_minor": 2
}
